{
  "nbformat": 4,
  "nbformat_minor": 0,
  "metadata": {
    "colab": {
      "provenance": []
    },
    "kernelspec": {
      "name": "python3",
      "display_name": "Python 3"
    },
    "language_info": {
      "name": "python"
    }
  },
  "cells": [
    {
      "cell_type": "code",
      "execution_count": 1,
      "metadata": {
        "id": "N0Mb53YfU2Qx"
      },
      "outputs": [],
      "source": [
        "import json\n",
        "import requests\n",
        "import os\n",
        "import time\n",
        "from datetime import datetime, timedelta"
      ]
    },
    {
      "cell_type": "code",
      "source": [
        "!git clone https://github.com/Rohan-J123/PyroPredictorModel"
      ],
      "metadata": {
        "colab": {
          "base_uri": "https://localhost:8080/"
        },
        "id": "ANaN7_nGU9B8",
        "outputId": "767e825f-36cf-48b2-cdee-da30760ef7ec"
      },
      "execution_count": 2,
      "outputs": [
        {
          "output_type": "stream",
          "name": "stdout",
          "text": [
            "Cloning into 'PyroPredictorModel'...\n",
            "remote: Enumerating objects: 244, done.\u001b[K\n",
            "remote: Counting objects: 100% (244/244), done.\u001b[K\n",
            "remote: Compressing objects: 100% (61/61), done.\u001b[K\n",
            "remote: Total 244 (delta 198), reused 224 (delta 181), pack-reused 0 (from 0)\u001b[K\n",
            "Receiving objects: 100% (244/244), 9.92 MiB | 19.93 MiB/s, done.\n",
            "Resolving deltas: 100% (198/198), done.\n"
          ]
        }
      ]
    },
    {
      "cell_type": "code",
      "source": [
        "file_paths = [\"/content/PyroPredictorModel/Fire_Dataset_Weather/fire_batch_1.geojson\",\n",
        "              \"/content/PyroPredictorModel/Fire_Dataset_Weather/fire_batch_2.geojson\",\n",
        "              \"/content/PyroPredictorModel/Fire_Dataset_Weather/fire_batch_3.geojson\",\n",
        "              \"/content/PyroPredictorModel/Fire_Dataset_Weather/fire_batch_4.geojson\",\n",
        "              \"/content/PyroPredictorModel/Fire_Dataset_Weather/fire_batch_5.geojson\",\n",
        "              \"/content/PyroPredictorModel/Fire_Dataset_Weather/fire_batch_6.geojson\",\n",
        "              \"/content/PyroPredictorModel/Fire_Dataset_Weather/fire_batch_7.geojson\",\n",
        "              \"/content/PyroPredictorModel/Fire_Dataset_Weather/fire_batch_8.geojson\",\n",
        "              \"/content/PyroPredictorModel/Fire_Dataset_Weather/fire_batch_9.geojson\",\n",
        "              \"/content/PyroPredictorModel/Fire_Dataset_Weather/fire_batch_10.geojson\"]"
      ],
      "metadata": {
        "id": "XCuQnMlfUEKu"
      },
      "execution_count": 8,
      "outputs": []
    },
    {
      "cell_type": "code",
      "source": [
        "output_dir = \"/content/Fire_Dataset_Cleaned\"\n",
        "os.makedirs(output_dir, exist_ok=True)"
      ],
      "metadata": {
        "id": "_w2HV2LYXKAf"
      },
      "execution_count": 9,
      "outputs": []
    },
    {
      "cell_type": "code",
      "source": [
        "i = 1\n",
        "for file_path in file_paths:\n",
        "    with open(file_path, 'r') as file:\n",
        "        geo_data = json.load(file)\n",
        "        output_data = []\n",
        "        for feature in geo_data['features']:\n",
        "            temp = {}\n",
        "            [temp['longitude'], temp['latitude']] = feature['geometry']['coordinates']\n",
        "\n",
        "            temp['fromdate'] = feature['properties']['fromdate']\n",
        "            temp['severity'] = feature['properties']['severity']\n",
        "\n",
        "            if feature['vegetation_indices']['NDVI'] is None:\n",
        "                continue\n",
        "            temp['ndvi'] = feature['vegetation_indices']['NDVI']\n",
        "\n",
        "            if feature['vegetation_indices']['EVI'] is None:\n",
        "                continue\n",
        "            temp['evi'] = feature['vegetation_indices']['EVI']\n",
        "\n",
        "            if feature['vegetation_indices']['LAI'] is None:\n",
        "                continue\n",
        "            temp['lai'] = feature['vegetation_indices']['LAI']\n",
        "\n",
        "            if feature['vegetation_indices']['FPAR'] is None:\n",
        "                continue\n",
        "            temp['fpar'] = feature['vegetation_indices']['FPAR']\n",
        "\n",
        "            temp['elevation'] = feature['Elevation']\n",
        "\n",
        "            temp['relative_humidity'] = feature['Weather']['relative_humidity_2m']\n",
        "            temp['dew_point'] = feature['Weather']['dew_point_2m']\n",
        "            temp['surface_pressure'] = feature['Weather']['surface_pressure']\n",
        "            temp['cloud_cover'] = feature['Weather']['cloud_cover']\n",
        "            temp['wind_speed'] = feature['Weather']['wind_speed_10m']\n",
        "            temp['soil_temperature'] = feature['Weather']['soil_temperature_0_to_7cm']\n",
        "            temp['soil_moisture'] = feature['Weather']['soil_moisture_0_to_7cm']\n",
        "            temp['direct_radiation'] = feature[\"Weather\"]['direct_radiation']\n",
        "\n",
        "            temp['weather_code'] = feature['Weather']['daily_weather_code']\n",
        "            temp['temperature'] = feature['Weather']['daily_temperature_2m_mean']\n",
        "            temp['precipitation'] = feature['Weather']['daily_rain_sum']\n",
        "            temp['evapotranspiration'] = feature['Weather']['daily_et0_fao_evapotranspiration']\n",
        "            output_data.append(temp)\n",
        "        geo_data['features'] = output_data\n",
        "    with open(f\"/content/Fire_Dataset_Cleaned/fire_batch_{i}.geojson\", 'w') as out_file:\n",
        "          json.dump(geo_data, out_file, indent=4)\n",
        "    i += 1"
      ],
      "metadata": {
        "id": "uDFgcJ3xUHg9"
      },
      "execution_count": 10,
      "outputs": []
    },
    {
      "cell_type": "code",
      "source": [
        "!zip -r Fire_Dataset_Cleaned.zip Fire_Dataset_Cleaned"
      ],
      "metadata": {
        "colab": {
          "base_uri": "https://localhost:8080/"
        },
        "id": "F7wHlcweYpnd",
        "outputId": "c4839ca0-28cb-499d-9873-40853162c778"
      },
      "execution_count": 11,
      "outputs": [
        {
          "output_type": "stream",
          "name": "stdout",
          "text": [
            "  adding: Fire_Dataset_Cleaned/ (stored 0%)\n",
            "  adding: Fire_Dataset_Cleaned/fire_batch_3.geojson (deflated 82%)\n",
            "  adding: Fire_Dataset_Cleaned/fire_batch_8.geojson (deflated 82%)\n",
            "  adding: Fire_Dataset_Cleaned/fire_batch_5.geojson (deflated 82%)\n",
            "  adding: Fire_Dataset_Cleaned/fire_batch_2.geojson (deflated 83%)\n",
            "  adding: Fire_Dataset_Cleaned/fire_batch_7.geojson (deflated 82%)\n",
            "  adding: Fire_Dataset_Cleaned/fire_batch_1.geojson (deflated 82%)\n",
            "  adding: Fire_Dataset_Cleaned/fire_batch_9.geojson (deflated 82%)\n",
            "  adding: Fire_Dataset_Cleaned/fire_batch_10.geojson (deflated 81%)\n",
            "  adding: Fire_Dataset_Cleaned/fire_batch_4.geojson (deflated 82%)\n",
            "  adding: Fire_Dataset_Cleaned/fire_batch_6.geojson (deflated 82%)\n"
          ]
        }
      ]
    },
    {
      "cell_type": "code",
      "source": [
        "file_paths = [\"/content/Non_Fire_Dataset_Cleaned/non_fire_batch_1.geojson\",\n",
        "              \"/content/Non_Fire_Dataset_Cleaned/non_fire_batch_2.geojson\",\n",
        "              \"/content/Non_Fire_Dataset_Cleaned/non_fire_batch_3.geojson\",\n",
        "              \"/content/Non_Fire_Dataset_Cleaned/non_fire_batch_4.geojson\",\n",
        "              \"/content/Non_Fire_Dataset_Cleaned/non_fire_batch_5.geojson\",\n",
        "              \"/content/Non_Fire_Dataset_Cleaned/non_fire_batch_6.geojson\",\n",
        "              \"/content/Non_Fire_Dataset_Cleaned/non_fire_batch_7.geojson\",\n",
        "              \"/content/Non_Fire_Dataset_Cleaned/non_fire_batch_8.geojson\"]"
      ],
      "metadata": {
        "id": "iJu-OmItZEzo"
      },
      "execution_count": 15,
      "outputs": []
    },
    {
      "cell_type": "code",
      "source": [
        "import csv\n",
        "\n",
        "data = []\n",
        "\n",
        "for file_path in file_paths:\n",
        "    with open(file_path, 'r') as file:\n",
        "        data.extend(json.load(file)[\"features\"])\n",
        "\n",
        "with open('Non_Fires.csv', 'w', newline='') as csv_file:\n",
        "    writer = csv.DictWriter(csv_file, fieldnames=data[0].keys())\n",
        "\n",
        "    # Write the header (keys of the first item in the list)\n",
        "    writer.writeheader()\n",
        "\n",
        "    # Write the rows (data entries)\n",
        "    writer.writerows(data)"
      ],
      "metadata": {
        "id": "wbKxKZELZLs5"
      },
      "execution_count": 16,
      "outputs": []
    }
  ]
}